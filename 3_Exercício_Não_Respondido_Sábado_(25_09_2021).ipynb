{
  "nbformat": 4,
  "nbformat_minor": 0,
  "metadata": {
    "colab": {
      "name": "3. Exercício Não-Respondido Sábado (25/09/2021).ipynb",
      "provenance": [],
      "collapsed_sections": [
        "Nvz3Nlliwotc",
        "R2wg2E96TdOn",
        "2rkLTo8VTDg1",
        "8Xx7DRB-UZbY",
        "VzIrzkQRU78o",
        "PVbyG7OlbF1k",
        "6Q4Cp1ARgvBX",
        "XUnnlOl2nzbs",
        "OqRfcvmnyQo5",
        "dT__HDkGyoUo",
        "Z9TJMzey58cq",
        "tyoQpg93yvZS",
        "TPceIdk_zTVp",
        "nxEbUnJO5POA"
      ],
      "include_colab_link": true
    },
    "kernelspec": {
      "name": "python3",
      "display_name": "Python 3"
    },
    "accelerator": "GPU"
  },
  "cells": [
    {
      "cell_type": "markdown",
      "metadata": {
        "id": "view-in-github",
        "colab_type": "text"
      },
      "source": [
        "<a href=\"https://colab.research.google.com/github/KateMorf/icev-notebooks/blob/main/3_Exerc%C3%ADcio_N%C3%A3o_Respondido_S%C3%A1bado_(25_09_2021).ipynb\" target=\"_parent\"><img src=\"https://colab.research.google.com/assets/colab-badge.svg\" alt=\"Open In Colab\"/></a>"
      ]
    },
    {
      "cell_type": "markdown",
      "metadata": {
        "id": "l6GXn1vDj-Tp"
      },
      "source": [
        "#**Praticando KDD no Iris dataset**"
      ]
    },
    {
      "cell_type": "code",
      "metadata": {
        "id": "KiwKY-VAMizg"
      },
      "source": [
        "!pip install -U pandas-profiling"
      ],
      "execution_count": null,
      "outputs": []
    },
    {
      "cell_type": "code",
      "metadata": {
        "id": "72PMJR9_6Gct"
      },
      "source": [
        "import pandas as pd\n",
        "import pandas_profiling\n",
        "from sklearn.datasets import load_iris\n",
        "from pandas_profiling import ProfileReport\n",
        "import numpy as np"
      ],
      "execution_count": null,
      "outputs": []
    },
    {
      "cell_type": "markdown",
      "metadata": {
        "id": "UV9dBGJlAKuO"
      },
      "source": [
        "# **Análise Exploratório de Dados**"
      ]
    },
    {
      "cell_type": "markdown",
      "metadata": {
        "id": "Nvz3Nlliwotc"
      },
      "source": [
        "### Conhecendo o Dataset Iris\n",
        "### Atributos existentes:\n",
        "### ---- **sepal length (cm),sepal width (cm),petal length (cm),petal width (cm),target**\n",
        "### Descrição dos atributos:<br>\n",
        " **sepal length (cm)**: comprimento sépala<br>\n",
        " **sepal width (cm)**: largura sépala<br>\n",
        " **petal length (cm)**: comprimento pétala<br>\n",
        " **petal width (cm)**: largura pétala<br>\n",
        " **target**: classe (0 - setosa, 1 -versicolor, 2 - virginica)<br>"
      ]
    },
    {
      "cell_type": "code",
      "metadata": {
        "id": "dIxIJuyQtzgc"
      },
      "source": [
        "# lendo arquivo csv com o método read_csv()\n",
        "data = load_iris()\n",
        "df = pd.DataFrame(data.data, columns=data.feature_names)\n",
        "df['target'] = data.target\n",
        "df['target'] = df.target.map({0: 'Setosa', 1: 'Versicolor', 2: 'Virginica'})"
      ],
      "execution_count": null,
      "outputs": []
    },
    {
      "cell_type": "code",
      "metadata": {
        "id": "JJhj-gXQL9Mu"
      },
      "source": [
        "# retornar os N primeiros elementos do DataFrame"
      ],
      "execution_count": null,
      "outputs": []
    },
    {
      "cell_type": "code",
      "metadata": {
        "id": "OvmbCeqeu-va"
      },
      "source": [
        "# retornar os N últimos elementos do DataFrame"
      ],
      "execution_count": null,
      "outputs": []
    },
    {
      "cell_type": "code",
      "metadata": {
        "id": "fgKVPQkwKvMf"
      },
      "source": [
        "# renomear colunas com o método rename() e salvar em um novo dataframe (remover cm do nome dos atributos)"
      ],
      "execution_count": null,
      "outputs": []
    },
    {
      "cell_type": "code",
      "metadata": {
        "id": "gmZFcsaTmHBo"
      },
      "source": [
        "# retornar informações sobre os dados de cada coluna"
      ],
      "execution_count": null,
      "outputs": []
    },
    {
      "cell_type": "markdown",
      "metadata": {
        "id": "VzIrzkQRU78o"
      },
      "source": [
        "### Encontrando informações importantes sobre os dados"
      ]
    },
    {
      "cell_type": "code",
      "metadata": {
        "id": "Q69IwLri0QMs"
      },
      "source": [
        "# qtd de registros pela classe target"
      ],
      "execution_count": null,
      "outputs": []
    },
    {
      "cell_type": "code",
      "metadata": {
        "id": "VxOuje8EvpkT"
      },
      "source": [
        "# Média de tamanho da petal length e sepal length por target"
      ],
      "execution_count": null,
      "outputs": []
    },
    {
      "cell_type": "markdown",
      "metadata": {
        "id": "PVbyG7OlbF1k"
      },
      "source": [
        "### Módulo pandas_profiling"
      ]
    },
    {
      "cell_type": "code",
      "metadata": {
        "id": "PMhmJs6B7mps"
      },
      "source": [
        "# gerando relatório e salvando na variável profile\n",
        "profile = df.profile_report(title=\"Iris - Pandas Profiling Report\", html={'style': {'full_width': True}})"
      ],
      "execution_count": null,
      "outputs": []
    },
    {
      "cell_type": "code",
      "metadata": {
        "id": "vBk8sQW970rb"
      },
      "source": [
        "# exportando o resultado para .html para visualização do relatório\n",
        "profile.to_file(output_file=\"report.html\")"
      ],
      "execution_count": null,
      "outputs": []
    },
    {
      "cell_type": "code",
      "metadata": {
        "id": "z7NP59L0BPdQ"
      },
      "source": [
        "# Describe dos dados"
      ],
      "execution_count": null,
      "outputs": []
    },
    {
      "cell_type": "markdown",
      "metadata": {
        "id": "6Q4Cp1ARgvBX"
      },
      "source": [
        "### Visualização dos dados por meio de gráficos"
      ]
    },
    {
      "cell_type": "code",
      "metadata": {
        "id": "UZ1ZHum2ciJR"
      },
      "source": [
        "import matplotlib.pyplot as plt\n",
        "import seaborn as sns"
      ],
      "execution_count": null,
      "outputs": []
    },
    {
      "cell_type": "markdown",
      "metadata": {
        "id": "bnUyQhTxTOXN"
      },
      "source": [
        "#### Distribuição estatística dos dados"
      ]
    },
    {
      "cell_type": "markdown",
      "metadata": {
        "id": "J5qNnev5CXOy"
      },
      "source": [
        "##### Histograma\n",
        "Para análise e representação de dados quantitativos, agrupados em classes de freqüência"
      ]
    },
    {
      "cell_type": "code",
      "metadata": {
        "id": "HZKxijtwB4XB"
      },
      "source": [
        "# Plot histograma"
      ],
      "execution_count": null,
      "outputs": []
    },
    {
      "cell_type": "markdown",
      "metadata": {
        "id": "P8a8DUHRtFDq"
      },
      "source": [
        "Qual a conclusão que se chega ao olhar para o gráfico?\n",
        "R="
      ]
    },
    {
      "cell_type": "markdown",
      "metadata": {
        "id": "Bsjfbc97CgUy"
      },
      "source": [
        "#### Qual a média dos atributos para cada target"
      ]
    },
    {
      "cell_type": "markdown",
      "metadata": {
        "id": "xyyIkJY4Auw1"
      },
      "source": [
        "##### **Gráfico de barras**\n",
        "##### Para dados de séries não temporais rotulados"
      ]
    },
    {
      "cell_type": "code",
      "metadata": {
        "id": "4FoEPKIZFI0s"
      },
      "source": [
        "# Plot com a média para cada atributo separado pelas classes Setosa, Versicolor, Virginica"
      ],
      "execution_count": null,
      "outputs": []
    },
    {
      "cell_type": "markdown",
      "metadata": {
        "id": "ZdloVbl6GMLO"
      },
      "source": [
        "Qual a conclusão que se chega ao olhar para o gráfico\n",
        "\n",
        "R=\n",
        "\n"
      ]
    },
    {
      "cell_type": "markdown",
      "metadata": {
        "id": "b9aSLgaDLtYu"
      },
      "source": [
        "#### Heatmap - Olhando para a correlação entre os atributos\n",
        "\n"
      ]
    },
    {
      "cell_type": "code",
      "metadata": {
        "id": "iRb8vFPxmwXW"
      },
      "source": [
        "# Plot heatmap"
      ],
      "execution_count": null,
      "outputs": []
    },
    {
      "cell_type": "markdown",
      "metadata": {
        "id": "rXup9-0jy54a"
      },
      "source": [
        "Que conclusão chegamos?\n",
        "\n",
        "R="
      ]
    },
    {
      "cell_type": "markdown",
      "metadata": {
        "id": "jjOY4n1cSmol"
      },
      "source": [
        "# **Preparação de Dados**"
      ]
    },
    {
      "cell_type": "markdown",
      "metadata": {
        "id": "XUnnlOl2nzbs"
      },
      "source": [
        "### Limpeza e Pré-processamento"
      ]
    },
    {
      "cell_type": "markdown",
      "metadata": {
        "id": "OqRfcvmnyQo5"
      },
      "source": [
        "#### Identificação de registros ausentes e duplicados"
      ]
    },
    {
      "cell_type": "code",
      "metadata": {
        "id": "4GgbxHXuolOG"
      },
      "source": [
        "# contando a quantidade de valores ausentes por coluna:"
      ],
      "execution_count": null,
      "outputs": []
    },
    {
      "cell_type": "code",
      "metadata": {
        "id": "JN4aiGzFyUa_"
      },
      "source": [
        "# contando a quantidade total de valores NaN (not a number)"
      ],
      "execution_count": null,
      "outputs": []
    },
    {
      "cell_type": "code",
      "metadata": {
        "id": "09yJ6aR_x1gg"
      },
      "source": [
        "# contando a quantidade de duplicados"
      ],
      "execution_count": null,
      "outputs": []
    },
    {
      "cell_type": "markdown",
      "metadata": {
        "id": "Z9TJMzey58cq"
      },
      "source": [
        "#### Tratando valores faltantes e duplicados\n",
        "\n"
      ]
    },
    {
      "cell_type": "code",
      "metadata": {
        "id": "N6-LFnagTcRF"
      },
      "source": [
        "# Remover dados duplicados"
      ],
      "execution_count": null,
      "outputs": []
    },
    {
      "cell_type": "markdown",
      "metadata": {
        "id": "W7rqAdEH8u78"
      },
      "source": [
        "### Transformação de dados"
      ]
    },
    {
      "cell_type": "markdown",
      "metadata": {
        "id": "TPceIdk_zTVp"
      },
      "source": [
        "#### Transformação dos atributos para os modelos de Machine Learning\n"
      ]
    },
    {
      "cell_type": "code",
      "metadata": {
        "id": "cqnxfRBIpS-w"
      },
      "source": [
        "# Converter Classe para numérico (Setosa - 0, Versicolor - 1, Virginica - 2)"
      ],
      "execution_count": null,
      "outputs": []
    },
    {
      "cell_type": "markdown",
      "metadata": {
        "id": "CPCScd-S0a8P"
      },
      "source": [
        "#### Redução de dimensionalidade usando a **Principal Component Analysis (PCA)**\n"
      ]
    },
    {
      "cell_type": "code",
      "metadata": {
        "id": "wNVo517t-KU5"
      },
      "source": [
        "from sklearn.decomposition import PCA"
      ],
      "execution_count": null,
      "outputs": []
    },
    {
      "cell_type": "code",
      "metadata": {
        "id": "l0xP04FY1K0g"
      },
      "source": [
        "# Visualizando a variância acumulada do PCA para os Dados Iris\n",
        "def plot_variancia_acumulada(pca):\n",
        "    plt.figure(figsize=(10,8))\n",
        "    plt.plot(np.cumsum(pca.explained_variance_ratio_))\n",
        "    plt.xlabel('Número de componentes')\n",
        "    plt.ylabel('Variância acumulada');"
      ],
      "execution_count": null,
      "outputs": []
    },
    {
      "cell_type": "code",
      "metadata": {
        "id": "myUtTMKS9fZS"
      },
      "source": [
        "# Aplicando PCA nos dados Iris\n",
        "\n",
        "def plot_pca(df_pca, y):\n",
        "    plt.figure(figsize=(10,8))\n",
        "    plt.scatter(df_pca[:, 0], df_pca[:, 1],\n",
        "                c=y.values, edgecolor='none', alpha=0.5,\n",
        "                cmap=plt.cm.get_cmap('coolwarm', 3))\n",
        "    plt.xlabel('component 1')\n",
        "    plt.ylabel('component 2')\n",
        "    plt.colorbar();"
      ],
      "execution_count": null,
      "outputs": []
    },
    {
      "cell_type": "markdown",
      "metadata": {
        "id": "Te6wn8RUYixu"
      },
      "source": [
        "#### Preparando datasets de treino e teste usando o Sklearn (holdout)"
      ]
    },
    {
      "cell_type": "code",
      "metadata": {
        "id": "vtAS2L9NaHVa"
      },
      "source": [
        "# dividir os dados onde 80% para train e 20% para test\n",
        "from sklearn.model_selection import train_test_split\n"
      ],
      "execution_count": null,
      "outputs": []
    },
    {
      "cell_type": "code",
      "metadata": {
        "id": "U8pven_bdDTn"
      },
      "source": [
        "# Print tamanho das bases de treino e teste"
      ],
      "execution_count": null,
      "outputs": []
    },
    {
      "cell_type": "markdown",
      "metadata": {
        "id": "nxEbUnJO5POA"
      },
      "source": [
        "# **Construção do Modelo**\n",
        "\n",
        "Supervisionado\n",
        "*   Logistic Regression\n",
        "*   K- vizinhos - K-NN\n",
        "*   Árvore de Decisão - Decision Tree\n",
        "\n",
        "Não-supervisionado\n",
        "*   K-means\n"
      ]
    },
    {
      "cell_type": "markdown",
      "metadata": {
        "id": "Pqp4tMp3fQ_h"
      },
      "source": [
        "## Modelo de Logistic Regression (LR)\n"
      ]
    },
    {
      "cell_type": "code",
      "metadata": {
        "id": "IbdrvZ9Ifuf4"
      },
      "source": [
        "from sklearn.linear_model import LogisticRegression"
      ],
      "execution_count": null,
      "outputs": []
    },
    {
      "cell_type": "code",
      "metadata": {
        "id": "Z45F6LfA4n7H"
      },
      "source": [
        "# Treinamento do Logistic Regression usando dados de X1 e y1 "
      ],
      "execution_count": null,
      "outputs": []
    },
    {
      "cell_type": "code",
      "metadata": {
        "id": "Cnq8pzczgTMI"
      },
      "source": [
        "# Print a acurácia do modelo treinado"
      ],
      "execution_count": null,
      "outputs": []
    },
    {
      "cell_type": "markdown",
      "metadata": {
        "id": "Xv_bHAJzhN5j"
      },
      "source": [
        "## Modelo de K-NN"
      ]
    },
    {
      "cell_type": "code",
      "metadata": {
        "id": "jCrgI9EYhN5j"
      },
      "source": [
        "from sklearn.neighbors import KNeighborsClassifier"
      ],
      "execution_count": null,
      "outputs": []
    },
    {
      "cell_type": "code",
      "metadata": {
        "id": "h7qMiVhchN5j"
      },
      "source": [
        "# Treinamento do KNN usando dados de X1 e y1 "
      ],
      "execution_count": null,
      "outputs": []
    },
    {
      "cell_type": "code",
      "metadata": {
        "id": "a-HIbDqzhN5k"
      },
      "source": [
        "# print a acurácia do modelo treinado"
      ],
      "execution_count": null,
      "outputs": []
    },
    {
      "cell_type": "markdown",
      "metadata": {
        "id": "jF81Mwk4iFSc"
      },
      "source": [
        "## Modelo de Decision Tree"
      ]
    },
    {
      "cell_type": "code",
      "metadata": {
        "id": "cNRIjXcWiFSd"
      },
      "source": [
        "from sklearn.tree import DecisionTreeClassifier"
      ],
      "execution_count": null,
      "outputs": []
    },
    {
      "cell_type": "code",
      "metadata": {
        "id": "zQvHmk8yiFSd"
      },
      "source": [
        "# Treinamento do Decision Tree usando dados de X1 e y1 "
      ],
      "execution_count": null,
      "outputs": []
    },
    {
      "cell_type": "code",
      "metadata": {
        "id": "X76di2am-hdj"
      },
      "source": [
        "from sklearn import tree"
      ],
      "execution_count": null,
      "outputs": []
    },
    {
      "cell_type": "code",
      "metadata": {
        "id": "BfymSVEixoKU"
      },
      "source": [
        "# Imprimindo a Árvore gerada no treinamento"
      ],
      "execution_count": null,
      "outputs": []
    },
    {
      "cell_type": "code",
      "metadata": {
        "id": "-S6Wv0CaiFSd"
      },
      "source": [
        "# print a acurácia do modelo treinado"
      ],
      "execution_count": null,
      "outputs": []
    },
    {
      "cell_type": "markdown",
      "metadata": {
        "id": "-nIrB4W8m8FL"
      },
      "source": [
        "## Modelo de K-means"
      ]
    },
    {
      "cell_type": "code",
      "metadata": {
        "id": "5KHZrDAFm8FL"
      },
      "source": [
        "from sklearn.cluster import KMeans"
      ],
      "execution_count": null,
      "outputs": []
    },
    {
      "cell_type": "code",
      "metadata": {
        "id": "v1y3tf03m8FM"
      },
      "source": [
        "# Treinamento do KMeans com k=3 usando dados de X1 e y1 "
      ],
      "execution_count": null,
      "outputs": []
    },
    {
      "cell_type": "code",
      "metadata": {
        "id": "H2NK5Cl_m8FM"
      },
      "source": [
        "# print a acurácia do modelo treinado\n",
        "from sklearn.metrics import accuracy_score"
      ],
      "execution_count": null,
      "outputs": []
    },
    {
      "cell_type": "code",
      "metadata": {
        "id": "TZrI3dwWS2dM"
      },
      "source": [
        "# Printando os centróides"
      ],
      "execution_count": null,
      "outputs": []
    },
    {
      "cell_type": "code",
      "metadata": {
        "id": "UHp8hY47AJZq"
      },
      "source": [
        "# Função para visualizar os grupos encontrados pelo KMeans usando o PCA\n",
        "from sklearn.decomposition import PCA\n",
        "import numpy as np\n",
        " \n",
        "def plot_kmeans(data, pca, km_model):\n",
        "    \n",
        "    #Transforma os dados\n",
        "    km_view = pca.fit_transform(data)\n",
        "    \n",
        "    #prediz os labels dos grupos.\n",
        "    label = km_model.predict(data)\n",
        "    \n",
        "    #Obtendo os labels únicos\n",
        "    u_labels = np.unique(label)\n",
        "    \n",
        "    #Plotando os resultados:\n",
        "    for i in u_labels:\n",
        "        plt.scatter(km_view[label == i , 0] , km_view[label == i , 1] , label = i)\n",
        "\n",
        "    centroids = pca.transform(km_model.cluster_centers_)\n",
        "    plt.scatter(centroids[:,0] , centroids[:,1] , s = 80, color = 'k')\n",
        "\n",
        "    plt.legend()\n",
        "    plt.show()\n"
      ],
      "execution_count": null,
      "outputs": []
    },
    {
      "cell_type": "markdown",
      "metadata": {
        "id": "GRVxr9_g4-5i"
      },
      "source": [
        "# **Avaliação de Resultados**"
      ]
    },
    {
      "cell_type": "markdown",
      "metadata": {
        "id": "CW-LOmS1jg6E"
      },
      "source": [
        "## Matriz de Confusão"
      ]
    },
    {
      "cell_type": "code",
      "metadata": {
        "id": "6UNNvRvl-t_h"
      },
      "source": [
        "from sklearn import metrics"
      ],
      "execution_count": null,
      "outputs": []
    },
    {
      "cell_type": "code",
      "metadata": {
        "id": "T4CY_eUd7_eN"
      },
      "source": [
        "# print matriz de confusão para um dos modelos criados"
      ],
      "execution_count": null,
      "outputs": []
    },
    {
      "cell_type": "markdown",
      "metadata": {
        "id": "mLilyV1HEkTK"
      },
      "source": [
        "## Métricas de Avaliação de resultados"
      ]
    },
    {
      "cell_type": "code",
      "metadata": {
        "id": "9I7OKNsghYFP"
      },
      "source": [
        "# Fazer predicao para todos os modelos criados para a base X2"
      ],
      "execution_count": null,
      "outputs": []
    },
    {
      "cell_type": "markdown",
      "metadata": {
        "id": "VGG_s9s3Jw-_"
      },
      "source": [
        "### Resultados Logistic Regression "
      ]
    },
    {
      "cell_type": "code",
      "metadata": {
        "id": "U2CfEBGvjveM"
      },
      "source": [
        "# métricas "
      ],
      "execution_count": null,
      "outputs": []
    },
    {
      "cell_type": "markdown",
      "metadata": {
        "id": "ji-J7twvKPcz"
      },
      "source": [
        "### Resultados KNN"
      ]
    },
    {
      "cell_type": "code",
      "metadata": {
        "id": "OT4G_hH5KPcz"
      },
      "source": [
        "# métricas"
      ],
      "execution_count": null,
      "outputs": []
    },
    {
      "cell_type": "markdown",
      "metadata": {
        "id": "qrNbQeEJKpNw"
      },
      "source": [
        "### Resultados Decision Tree "
      ]
    },
    {
      "cell_type": "code",
      "metadata": {
        "id": "ruR6Wl7uKpNx"
      },
      "source": [
        "# métricas"
      ],
      "execution_count": null,
      "outputs": []
    },
    {
      "cell_type": "markdown",
      "metadata": {
        "id": "fwj9s75RLJgo"
      },
      "source": [
        "### Resultados KMeans "
      ]
    },
    {
      "cell_type": "code",
      "metadata": {
        "id": "42bDcGNiLJgp"
      },
      "source": [
        "# métricas"
      ],
      "execution_count": null,
      "outputs": []
    },
    {
      "cell_type": "markdown",
      "metadata": {
        "id": "VN37GctRc6_x"
      },
      "source": [
        "### Visão geral dos resultados"
      ]
    },
    {
      "cell_type": "code",
      "metadata": {
        "id": "trd5HKP_jl15"
      },
      "source": [
        "# Visualizar todas as métricas em uma tabela"
      ],
      "execution_count": null,
      "outputs": []
    },
    {
      "cell_type": "code",
      "metadata": {
        "id": "E-YFoc9yhSTQ"
      },
      "source": [
        "# Plot para as métricas de Precisão Recall F1-Score e Acurácia para todos os modelos"
      ],
      "execution_count": null,
      "outputs": []
    },
    {
      "cell_type": "code",
      "metadata": {
        "id": "QQ8hUDk4AH6o"
      },
      "source": [
        ""
      ],
      "execution_count": null,
      "outputs": []
    }
  ]
}